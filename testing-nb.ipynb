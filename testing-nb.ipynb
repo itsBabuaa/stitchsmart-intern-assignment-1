{
 "cells": [
  {
   "cell_type": "code",
   "execution_count": 2,
   "id": "5791df3c-f0de-4efc-9aeb-348d2a7d07e6",
   "metadata": {},
   "outputs": [],
   "source": [
    "import os\n",
    "import csv\n",
    "import trimesh\n",
    "import numpy as np"
   ]
  },
  {
   "cell_type": "code",
   "execution_count": null,
   "id": "03a11f01",
   "metadata": {},
   "outputs": [
    {
     "data": {
      "text/plain": [
       "<trimesh.Trimesh(vertices.shape=(8, 3), faces.shape=(12, 3))>"
      ]
     },
     "execution_count": 5,
     "metadata": {},
     "output_type": "execute_result"
    }
   ],
   "source": [
    "# for cube\n",
    "file_path = os.path.join(\"datasets\", \"cube.obj\")\n",
    "\n",
    "# load mesh\n",
    "mesh = trimesh.load(file_path, force=\"mesh\")\n",
    "mesh if not mesh.is_empty else None"
   ]
  },
  {
   "cell_type": "code",
   "execution_count": 6,
   "id": "14014a76",
   "metadata": {},
   "outputs": [
    {
     "data": {
      "text/plain": [
       "(8, 12, [0.0, 0.0, 0.0], [1.0, 1.0, 1.0])"
      ]
     },
     "execution_count": 6,
     "metadata": {},
     "output_type": "execute_result"
    }
   ],
   "source": [
    "# getting stats from the mesh\n",
    "n_vertices = len(mesh.vertices)\n",
    "n_faces = len(mesh.faces)\n",
    "bbox_min = mesh.bounds[0].tolist()\n",
    "bbox_max = mesh.bounds[1].tolist()\n",
    "\n",
    "n_vertices, n_faces, bbox_min, bbox_max"
   ]
  },
  {
   "cell_type": "code",
   "execution_count": 7,
   "id": "b36df910",
   "metadata": {},
   "outputs": [
    {
     "data": {
      "text/plain": [
       "[8, 12, [0.0, 0.0, 0.0], [1.0, 1.0, 1.0]]"
      ]
     },
     "execution_count": 7,
     "metadata": {},
     "output_type": "execute_result"
    }
   ],
   "source": [
    "cube_stat = [n_vertices, n_faces, bbox_min, bbox_max]\n",
    "cube_stat"
   ]
  },
  {
   "cell_type": "code",
   "execution_count": null,
   "id": "4e574f95",
   "metadata": {},
   "outputs": [
    {
     "ename": "",
     "evalue": "",
     "output_type": "error",
     "traceback": [
      "\u001b[1;31mRunning cells with 'venv (Python 3.13.2)' requires the ipykernel package.\n",
      "\u001b[1;31mInstall 'ipykernel' into the Python environment. \n",
      "\u001b[1;31mCommand: '\"c:/Users/Asus/#Babuaa/Codes/VS Code/Ass/venv/Scripts/python.exe\" -m pip install ipykernel -U --force-reinstall'"
     ]
    }
   ],
   "source": [
    "# normalizing\n",
    "# by moving mesh to 0,0,0 and scale it so it fits inside a unit sphere\n",
    "\n",
    "vert = mesh.vertices - mesh.vertices.mean(axis=0)\n",
    "scale = np.max(np.linalg.norm(vert, axis=1))\n",
    "mesh.vertices = vert / scale\n",
    "mesh.show()"
   ]
  },
  {
   "cell_type": "code",
   "execution_count": null,
   "id": "0064256b",
   "metadata": {},
   "outputs": [],
   "source": []
  }
 ],
 "metadata": {
  "kernelspec": {
   "display_name": "venv",
   "language": "python",
   "name": "python3"
  },
  "language_info": {
   "codemirror_mode": {
    "name": "ipython",
    "version": 3
   },
   "file_extension": ".py",
   "mimetype": "text/x-python",
   "name": "python",
   "nbconvert_exporter": "python",
   "pygments_lexer": "ipython3",
   "version": "3.13.2"
  }
 },
 "nbformat": 4,
 "nbformat_minor": 5
}
